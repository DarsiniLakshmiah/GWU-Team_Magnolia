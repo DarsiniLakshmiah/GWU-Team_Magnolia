{
 "cells": [
  {
   "cell_type": "code",
   "execution_count": 19,
   "id": "aa5373bc-fc13-4413-9d53-d3b6441ad638",
   "metadata": {},
   "outputs": [],
   "source": [
    "import pandas as pd\n",
    "import numpy as np\n"
   ]
  },
  {
   "cell_type": "code",
   "execution_count": 23,
   "id": "d78d8c22-7c64-4156-a8d3-3965f960196c",
   "metadata": {
    "scrolled": true
   },
   "outputs": [
    {
     "name": "stdout",
     "output_type": "stream",
     "text": [
      "<class 'pandas.core.frame.DataFrame'>\n",
      "RangeIndex: 1008374 entries, 0 to 1008373\n",
      "Data columns (total 12 columns):\n",
      " #   Column               Non-Null Count    Dtype \n",
      "---  ------               --------------    ----- \n",
      " 0   upload_date          1008374 non-null  object\n",
      " 1   uploader_sub_count   1008374 non-null  int64 \n",
      " 2   view_count           1008374 non-null  int64 \n",
      " 3   like_count           1008374 non-null  int64 \n",
      " 4   dislike_count        1008374 non-null  int64 \n",
      " 5   has_subtitles        1008374 non-null  bool  \n",
      " 6   is_ads_enabled       1008374 non-null  bool  \n",
      " 7   is_comments_enabled  1008374 non-null  bool  \n",
      " 8   is_age_limit         1008374 non-null  bool  \n",
      " 9   is_live_content      1008374 non-null  bool  \n",
      " 10  description          757086 non-null   object\n",
      " 11  title                1008361 non-null  object\n",
      "dtypes: bool(5), int64(4), object(3)\n",
      "memory usage: 58.7+ MB\n",
      "None\n"
     ]
    }
   ],
   "source": [
    "\n",
    "df1 = pd.read_csv(\"C:\\\\Users\\\\darsh\\\\Downloads\\\\archive (6)\\\\train.csv\")\n",
    "df2 = pd.read_csv(\"C:\\\\Users\\\\darsh\\\\Downloads\\\\archive (6)\\\\test.csv\")\n",
    "\n",
    "combined_df = pd.concat([df1, df2], ignore_index=True)\n",
    "\n",
    "print(combined_df.info())\n"
   ]
  },
  {
   "cell_type": "code",
   "execution_count": 25,
   "id": "b8f871e7-51e5-4b6d-9d4d-ad51b9b7810c",
   "metadata": {},
   "outputs": [
    {
     "name": "stdout",
     "output_type": "stream",
     "text": [
      "          upload_date  uploader_sub_count  view_count  like_count  \\\n",
      "1008369      20160207              524000       30583         643   \n",
      "1008370      20120529             3560000         794           0   \n",
      "1008371      20170106                 647           8           0   \n",
      "1008372  ntly offline                 320           0           0   \n",
      "1008373      20150406                 389        7095          65   \n",
      "\n",
      "         dislike_count  has_subtitles  is_ads_enabled  is_comments_enabled  \\\n",
      "1008369             42           True            True                 True   \n",
      "1008370              0           True            True                 True   \n",
      "1008371              0          False           False                 True   \n",
      "1008372              0          False           False                False   \n",
      "1008373              0          False           False                 True   \n",
      "\n",
      "         is_age_limit  is_live_content  \\\n",
      "1008369         False            False   \n",
      "1008370         False            False   \n",
      "1008371         False            False   \n",
      "1008372         False            False   \n",
      "1008373         False            False   \n",
      "\n",
      "                                               description  \\\n",
      "1008369  ✦✦ ¡Únete al EJÉRCITO REDSHOCKIANO!: https://g...   \n",
      "1008370  제목 : TV소설 사랑아 사랑아(17부)\\r\\n공식홈페이지 : http://www....   \n",
      "1008371                                                NaN   \n",
      "1008372  If I stop drawing its because I have Teen Tita...   \n",
      "1008373  A dumb AMV I made when I couldn't sleep ... I ...   \n",
      "\n",
      "                                                     title  \n",
      "1008369  ✤ Smash Bros. Wii U ✤ | EXTRA: TODAS las ESCEN...  \n",
      "1008370  TV소설 사랑아 사랑아 - TV Novel Love, My Love 20120529...  \n",
      "1008371                                       One and Only  \n",
      "1008372                            Personal animation VENT  \n",
      "1008373                Heartbeat Song - Luffy//Hancock AMV  \n"
     ]
    }
   ],
   "source": [
    "print(combined_df.tail())"
   ]
  },
  {
   "cell_type": "code",
   "execution_count": 27,
   "id": "32647eba-280c-4a46-ae31-078acf44a0d5",
   "metadata": {},
   "outputs": [
    {
     "name": "stdout",
     "output_type": "stream",
     "text": [
      "  upload_date  uploader_sub_count  view_count  like_count  dislike_count  \\\n",
      "0    20160205                 789         778          12              0   \n",
      "1    20121001                 221          32           1              0   \n",
      "2    20210601                 112          12           2              0   \n",
      "3    20210523                  97          45          16              0   \n",
      "4    20201124                 469          16           6              0   \n",
      "\n",
      "   has_subtitles  is_ads_enabled  is_comments_enabled  is_age_limit  \\\n",
      "0          False           False                False         False   \n",
      "1          False           False                 True         False   \n",
      "2           True           False                 True         False   \n",
      "3          False           False                 True         False   \n",
      "4           True           False                 True         False   \n",
      "\n",
      "   is_live_content  \n",
      "0            False  \n",
      "1            False  \n",
      "2            False  \n",
      "3            False  \n",
      "4            False  \n"
     ]
    }
   ],
   "source": [
    "columns_to_remove = ['description', 'title']\n",
    "\n",
    "df = combined_df.drop(columns=columns_to_remove)\n",
    "\n",
    "print(df.head())"
   ]
  },
  {
   "cell_type": "code",
   "execution_count": 31,
   "id": "b0073c5f-45d6-45d7-a62b-2afc2fc5b775",
   "metadata": {},
   "outputs": [
    {
     "name": "stdout",
     "output_type": "stream",
     "text": [
      "CSV file has been exported to: C:/Users/darsh/Downloads/combined.csv\n"
     ]
    }
   ],
   "source": [
    "output_file = \"C:/Users/darsh/Downloads/combined.csv\" \n",
    "df.to_csv(output_file, index=False)\n",
    "\n",
    "print(f\"CSV file has been exported to: {output_file}\")"
   ]
  },
  {
   "cell_type": "code",
   "execution_count": null,
   "id": "1e690be8-b22d-486c-ae15-42e4cd1db92f",
   "metadata": {},
   "outputs": [],
   "source": []
  }
 ],
 "metadata": {
  "kernelspec": {
   "display_name": "Python 3 (ipykernel)",
   "language": "python",
   "name": "python3"
  },
  "language_info": {
   "codemirror_mode": {
    "name": "ipython",
    "version": 3
   },
   "file_extension": ".py",
   "mimetype": "text/x-python",
   "name": "python",
   "nbconvert_exporter": "python",
   "pygments_lexer": "ipython3",
   "version": "3.12.4"
  }
 },
 "nbformat": 4,
 "nbformat_minor": 5
}
