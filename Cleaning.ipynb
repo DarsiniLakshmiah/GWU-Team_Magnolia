{
 "cells": [
  {
   "cell_type": "code",
   "execution_count": 1,
   "id": "57227f1e-fa0c-4349-bb8b-7d6d37377f7d",
   "metadata": {},
   "outputs": [],
   "source": [
    "import pandas as pd\n",
    "import numpy as np\n",
    "\n",
    "import matplotlib.pyplot as plt\n",
    "import seaborn as sns"
   ]
  },
  {
   "cell_type": "code",
   "execution_count": 5,
   "id": "d5f73576-714e-44bc-8cc4-714b4c99c172",
   "metadata": {},
   "outputs": [],
   "source": [
    "data = pd.read_csv(\"C:\\\\Users\\\\darsh\\\\Downloads\\\\combined.csv\")"
   ]
  },
  {
   "cell_type": "code",
   "execution_count": 7,
   "id": "d4c1f8e3-cf2f-40a5-9716-da0f7ec7a9e3",
   "metadata": {},
   "outputs": [
    {
     "name": "stdout",
     "output_type": "stream",
     "text": [
      "0    2016/02/05\n",
      "1    2012/10/01\n",
      "2    2021/06/01\n",
      "3    2021/05/23\n",
      "4    2020/11/24\n",
      "Name: upload_date, dtype: object\n"
     ]
    }
   ],
   "source": [
    "data['upload_date'] = pd.to_datetime(data['upload_date'], format='%Y%m%d', errors='coerce')\n",
    "\n",
    "data['upload_date'] = data['upload_date'].dt.strftime('%Y/%m/%d')\n",
    "\n",
    "print(data['upload_date'].head())"
   ]
  },
  {
   "cell_type": "code",
   "execution_count": 9,
   "id": "9bf7ec5c-fc38-491c-885f-203710bce850",
   "metadata": {},
   "outputs": [
    {
     "name": "stdout",
     "output_type": "stream",
     "text": [
      "<class 'pandas.core.frame.DataFrame'>\n",
      "RangeIndex: 1008374 entries, 0 to 1008373\n",
      "Data columns (total 10 columns):\n",
      " #   Column               Non-Null Count    Dtype \n",
      "---  ------               --------------    ----- \n",
      " 0   upload_date          1008303 non-null  object\n",
      " 1   uploader_sub_count   1008374 non-null  int64 \n",
      " 2   view_count           1008374 non-null  int64 \n",
      " 3   like_count           1008374 non-null  int64 \n",
      " 4   dislike_count        1008374 non-null  int64 \n",
      " 5   has_subtitles        1008374 non-null  Int64 \n",
      " 6   is_ads_enabled       1008374 non-null  Int64 \n",
      " 7   is_comments_enabled  1008374 non-null  Int64 \n",
      " 8   is_age_limit         1008374 non-null  Int64 \n",
      " 9   is_live_content      1008374 non-null  Int64 \n",
      "dtypes: Int64(5), int64(4), object(1)\n",
      "memory usage: 81.7+ MB\n",
      "None\n"
     ]
    }
   ],
   "source": [
    "bool_cols = data.select_dtypes(include='bool').columns\n",
    "data[bool_cols] = data[bool_cols].astype('Int64')\n",
    "\n",
    "print(data.info())"
   ]
  },
  {
   "cell_type": "code",
   "execution_count": 11,
   "id": "149a4344-1693-4d1e-85c7-69fb9a5c51a2",
   "metadata": {},
   "outputs": [],
   "source": [
    "data['uploader_sub_count'] = data['uploader_sub_count'].apply(lambda x: np.nan if x < 0 else x)"
   ]
  },
  {
   "cell_type": "code",
   "execution_count": 13,
   "id": "1d87a528-a911-4191-ab83-ea16e44032d1",
   "metadata": {},
   "outputs": [],
   "source": [
    "data = data.dropna(subset=['uploader_sub_count'])"
   ]
  },
  {
   "cell_type": "code",
   "execution_count": 15,
   "id": "8ba52fd6-3f87-4e5a-97db-bf378f822e9b",
   "metadata": {},
   "outputs": [
    {
     "name": "stdout",
     "output_type": "stream",
     "text": [
      "<class 'pandas.core.frame.DataFrame'>\n",
      "Index: 917347 entries, 0 to 1008373\n",
      "Data columns (total 10 columns):\n",
      " #   Column               Non-Null Count   Dtype  \n",
      "---  ------               --------------   -----  \n",
      " 0   upload_date          917285 non-null  object \n",
      " 1   uploader_sub_count   917347 non-null  float64\n",
      " 2   view_count           917347 non-null  int64  \n",
      " 3   like_count           917347 non-null  int64  \n",
      " 4   dislike_count        917347 non-null  int64  \n",
      " 5   has_subtitles        917347 non-null  Int64  \n",
      " 6   is_ads_enabled       917347 non-null  Int64  \n",
      " 7   is_comments_enabled  917347 non-null  Int64  \n",
      " 8   is_age_limit         917347 non-null  Int64  \n",
      " 9   is_live_content      917347 non-null  Int64  \n",
      "dtypes: Int64(5), float64(1), int64(3), object(1)\n",
      "memory usage: 81.4+ MB\n",
      "None\n"
     ]
    }
   ],
   "source": [
    "print(data.info())"
   ]
  },
  {
   "cell_type": "code",
   "execution_count": 17,
   "id": "da14c805-686c-4216-a367-af929fecbec1",
   "metadata": {},
   "outputs": [],
   "source": [
    "# Removing the outliers \n",
    "\n",
    "numeric_columns = ['uploader_sub_count', 'view_count', 'like_count', 'dislike_count']\n",
    "Q1 = data[numeric_columns].quantile(0.25)\n",
    "Q3 = data[numeric_columns].quantile(0.75)\n",
    "IQR = Q3 - Q1\n",
    "\n",
    "lower_bound = Q1 - 1.5 * IQR\n",
    "upper_bound = Q3 + 1.5 * IQR\n",
    "\n",
    "data_cleaned = data[~((data[numeric_columns] < lower_bound) | (data[numeric_columns] > upper_bound)).any(axis=1)]"
   ]
  },
  {
   "cell_type": "code",
   "execution_count": 19,
   "id": "f49f8591-51b9-4fe7-a292-592059498d49",
   "metadata": {},
   "outputs": [
    {
     "name": "stdout",
     "output_type": "stream",
     "text": [
      "<class 'pandas.core.frame.DataFrame'>\n",
      "Index: 636209 entries, 0 to 1008372\n",
      "Data columns (total 10 columns):\n",
      " #   Column               Non-Null Count   Dtype  \n",
      "---  ------               --------------   -----  \n",
      " 0   upload_date          636161 non-null  object \n",
      " 1   uploader_sub_count   636209 non-null  float64\n",
      " 2   view_count           636209 non-null  int64  \n",
      " 3   like_count           636209 non-null  int64  \n",
      " 4   dislike_count        636209 non-null  int64  \n",
      " 5   has_subtitles        636209 non-null  Int64  \n",
      " 6   is_ads_enabled       636209 non-null  Int64  \n",
      " 7   is_comments_enabled  636209 non-null  Int64  \n",
      " 8   is_age_limit         636209 non-null  Int64  \n",
      " 9   is_live_content      636209 non-null  Int64  \n",
      "dtypes: Int64(5), float64(1), int64(3), object(1)\n",
      "memory usage: 56.4+ MB\n",
      "None\n"
     ]
    }
   ],
   "source": [
    "print(data_cleaned.info())"
   ]
  },
  {
   "cell_type": "code",
   "execution_count": null,
   "id": "e941367d-7929-4dd2-9db3-4dd735956143",
   "metadata": {},
   "outputs": [],
   "source": []
  }
 ],
 "metadata": {
  "kernelspec": {
   "display_name": "Python 3 (ipykernel)",
   "language": "python",
   "name": "python3"
  },
  "language_info": {
   "codemirror_mode": {
    "name": "ipython",
    "version": 3
   },
   "file_extension": ".py",
   "mimetype": "text/x-python",
   "name": "python",
   "nbconvert_exporter": "python",
   "pygments_lexer": "ipython3",
   "version": "3.12.4"
  }
 },
 "nbformat": 4,
 "nbformat_minor": 5
}
